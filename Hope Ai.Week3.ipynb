{
 "cells": [
  {
   "cell_type": "markdown",
   "id": "033efeea",
   "metadata": {},
   "source": [
    "Problem identification in AI\n",
    "Stage 1 : Domain Selection\n",
    "        Input   -    Domain - super.,unsuper.,semi \n",
    "        Number       Machine Learning -super.,unsuper.,semi \n",
    "        Image& No.   Deep Learning -super.,unsuper.,semi \n",
    "        Text         Natural Language Processing -super.,unsuper.,semi \n",
    "        Date         Time Series Analysis -super.,unsuper.,semi -regression only\n",
    "        \n",
    "Stage 2: Learning method selection\n",
    "\n",
    "        1. Supervised Learning - Requirement clear, Input/output present\n",
    "                        a. Regression - Numerical value\n",
    "                        b. Classification - categorical value\n",
    "        \n",
    "        2. Unsupervised Learning - helpful in target marketing, clustering, no output present\n",
    "        \n",
    "        3. Semi-supervised Learning - requirement clear, out label some time not clear (misssing output)\n",
    "\n",
    "Problem statment 1\n",
    "The XYZ bank facing the issues of fraudulent before making false transaction, system should prevent from fraudulent. As AI engineer how will you solve the problem.\n",
    "a)Supervised - regression\n",
    "b)Supervised- Classification\n",
    "c)Unsupervised - Clustering\n",
    "d) Semi-supervised\n",
    "\n",
    "\n",
    "Prediction: Fraud or non fraud\n",
    "call to action: stop the transaction/ continue the transaction\n",
    "database : excel sheet - if past data - input/output - classification- fraud /non fraud\n",
    "domain: Number - ML, DL\n",
    "\n",
    "Dataset: T1,T2,T3,T4 -o/p "
   ]
  },
  {
   "cell_type": "code",
   "execution_count": null,
   "id": "558c345f",
   "metadata": {},
   "outputs": [],
   "source": []
  }
 ],
 "metadata": {
  "kernelspec": {
   "display_name": "Python 3 (ipykernel)",
   "language": "python",
   "name": "python3"
  },
  "language_info": {
   "codemirror_mode": {
    "name": "ipython",
    "version": 3
   },
   "file_extension": ".py",
   "mimetype": "text/x-python",
   "name": "python",
   "nbconvert_exporter": "python",
   "pygments_lexer": "ipython3",
   "version": "3.9.7"
  }
 },
 "nbformat": 4,
 "nbformat_minor": 5
}
